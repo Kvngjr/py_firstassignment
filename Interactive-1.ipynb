{
 "cells": [
  {
   "cell_type": "markdown",
   "metadata": {
    "isInteractiveWindowMessageCell": true
   },
   "source": [
    "Connected to Python"
   ]
  },
  {
   "cell_type": "code",
   "execution_count": 1,
   "metadata": {},
   "outputs": [],
   "source": [
    "from fastapi import FastAPI, HTTPException\n",
    "\n",
    "app = FastAPI()\n",
    "\n",
    "# In-memory storage\n",
    "students = {}\n",
    "\n",
    "\n",
    "class Student:\n",
    "    def __init__(self, id, name, age, sex, height):\n",
    "        self.id = id\n",
    "        self.name = name\n",
    "        self.age = age\n",
    "        self.sex = sex\n",
    "        self.height = height\n",
    "\n",
    "\n",
    "@app.post(\"/students/\")\n",
    "def create_student(id: int, name: str, age: int, sex: str, height: float):\n",
    "    if id in students:\n",
    "        raise HTTPException(status_code=400, detail=\"Student with this id already exists\")\n",
    "    student = Student(id=id, name=name, age=age, sex=sex, height=height)\n",
    "    students[id] = student\n",
    "    return student\n",
    "\n",
    "\n",
    "@app.get(\"/students/{student_id}\")\n",
    "def read_student(student_id: int):\n",
    "    if student_id not in students:\n",
    "        raise HTTPException(status_code=404, detail=\"Student not found\")\n",
    "    return students[student_id]\n",
    "\n",
    "\n",
    "@app.get(\"/students/\")\n",
    "def read_students():\n",
    "    return list(students.values())\n",
    "\n",
    "\n",
    "@app.put(\"/students/{student_id}\")\n",
    "def update_student(student_id: int, name: str, age: int, sex: str, height: float):\n",
    "    if student_id not in students:\n",
    "        raise HTTPException(status_code=404, detail=\"Student not found\")\n",
    "    student = students[student_id]\n",
    "    student.name = name\n",
    "    student.age = age\n",
    "    student.sex = sex\n",
    "    student.height = height\n",
    "    return student\n",
    "\n",
    "\n",
    "@app.delete(\"/students/{student_id}\")\n",
    "def delete_student(student_id: int):\n",
    "    if student_id not in students:\n",
    "        raise HTTPException(status_code=404, detail=\"Student not found\")\n",
    "    del students[student_id]\n",
    "    return {\"message\": \"Student deleted\"}\n",
    "\n",
    "\n",
    "@app.get(\"/\")\n",
    "def read_root():\n",
    "    return {\"message\": \"Welcome to the Student API\"}"
   ]
  }
 ],
 "metadata": {
  "kernelspec": {
   "display_name": "Python 3",
   "language": "python",
   "name": "python3"
  },
  "language_info": {
   "name": "python",
   "version": "3.12.2"
  }
 },
 "nbformat": 4,
 "nbformat_minor": 2
}
